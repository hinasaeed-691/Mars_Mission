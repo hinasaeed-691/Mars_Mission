{
 "cells": [
  {
   "cell_type": "code",
   "execution_count": 1,
   "metadata": {},
   "outputs": [],
   "source": [
    "from flask import Flask, render_template, redirect, url_for\n",
    "from flask_pymongo import PyMongo\n",
    "import scraping"
   ]
  },
  {
   "cell_type": "code",
   "execution_count": 2,
   "metadata": {},
   "outputs": [],
   "source": [
    "app = Flask(__name__)\n",
    "# Use flask_pymongo to set up mongo connection\n",
    "app.config[\"MONGO_URI\"] = \"mongodb://localhost:27017/mars_app\"\n",
    "mongo = PyMongo(app)"
   ]
  },
  {
   "cell_type": "code",
   "execution_count": 3,
   "metadata": {},
   "outputs": [],
   "source": [
    "@app.route(\"/\")\n",
    "def index():\n",
    "   mars = mongo.db.mars.find_one()\n",
    "   return render_template(\"index.html\", mars=mars)"
   ]
  },
  {
   "cell_type": "code",
   "execution_count": 4,
   "metadata": {},
   "outputs": [],
   "source": [
    "@app.route(\"/scrape\")\n",
    "def scrape():\n",
    "   mars = mongo.db.mars\n",
    "   mars_data = scraping.scrape_all()\n",
    "   mars.update_one({}, {\"$set\":mars_data}, upsert=True)\n",
    "   return redirect('/', code=302)"
   ]
  },
  {
   "cell_type": "code",
   "execution_count": 5,
   "metadata": {},
   "outputs": [
    {
     "name": "stdout",
     "output_type": "stream",
     "text": [
      " * Serving Flask app '__main__' (lazy loading)\n",
      " * Environment: production\n",
      "\u001b[31m   WARNING: This is a development server. Do not use it in a production deployment.\u001b[0m\n",
      "\u001b[2m   Use a production WSGI server instead.\u001b[0m\n",
      " * Debug mode: off\n"
     ]
    },
    {
     "name": "stderr",
     "output_type": "stream",
     "text": [
      " * Running on http://127.0.0.1:5000 (Press CTRL+C to quit)\n",
      "127.0.0.1 - - [15/May/2022 21:13:53] \"GET / HTTP/1.1\" 200 -\n",
      "127.0.0.1 - - [15/May/2022 21:13:53] \"GET /static/images/error.png HTTP/1.1\" 404 -\n",
      "[2022-05-15 21:13:56,881] ERROR in app: Exception on /scrape [GET]\n",
      "Traceback (most recent call last):\n",
      "  File \"c:\\Users\\hinas\\anaconda3_\\envs\\py37\\lib\\site-packages\\selenium\\webdriver\\common\\service.py\", line 76, in start\n",
      "    creationflags=self.creationflags)\n",
      "  File \"c:\\Users\\hinas\\anaconda3_\\envs\\py37\\lib\\subprocess.py\", line 800, in __init__\n",
      "    restore_signals, start_new_session)\n",
      "  File \"c:\\Users\\hinas\\anaconda3_\\envs\\py37\\lib\\subprocess.py\", line 1207, in _execute_child\n",
      "    startupinfo)\n",
      "FileNotFoundError: [WinError 2] The system cannot find the file specified\n",
      "\n",
      "During handling of the above exception, another exception occurred:\n",
      "\n",
      "Traceback (most recent call last):\n",
      "  File \"c:\\Users\\hinas\\anaconda3_\\envs\\py37\\lib\\site-packages\\flask\\app.py\", line 2077, in wsgi_app\n",
      "    response = self.full_dispatch_request()\n",
      "  File \"c:\\Users\\hinas\\anaconda3_\\envs\\py37\\lib\\site-packages\\flask\\app.py\", line 1525, in full_dispatch_request\n",
      "    rv = self.handle_user_exception(e)\n",
      "  File \"c:\\Users\\hinas\\anaconda3_\\envs\\py37\\lib\\site-packages\\flask\\app.py\", line 1523, in full_dispatch_request\n",
      "    rv = self.dispatch_request()\n",
      "  File \"c:\\Users\\hinas\\anaconda3_\\envs\\py37\\lib\\site-packages\\flask\\app.py\", line 1509, in dispatch_request\n",
      "    return self.ensure_sync(self.view_functions[rule.endpoint])(**req.view_args)\n",
      "  File \"C:\\Users\\hinas\\AppData\\Local\\Temp\\ipykernel_25832\\18937253.py\", line 4, in scrape\n",
      "    mars_data = scraping.scrape_all()\n",
      "  File \"c:\\Users\\hinas\\OneDrive\\Desktop\\Bootcamp\\Module_10_Mars_Mission\\Mars_Mission\\scraping.py\", line 11, in scrape_all\n",
      "    browser = Browser('chrome', **executable_path, headless=True)\n",
      "  File \"c:\\Users\\hinas\\anaconda3_\\envs\\py37\\lib\\site-packages\\splinter\\browser.py\", line 99, in Browser\n",
      "    return get_driver(driver, retry_count=retry_count, *args, **kwargs)\n",
      "  File \"c:\\Users\\hinas\\anaconda3_\\envs\\py37\\lib\\site-packages\\splinter\\browser.py\", line 74, in get_driver\n",
      "    raise err\n",
      "  File \"c:\\Users\\hinas\\anaconda3_\\envs\\py37\\lib\\site-packages\\splinter\\browser.py\", line 70, in get_driver\n",
      "    return driver(*args, **kwargs)\n",
      "  File \"c:\\Users\\hinas\\anaconda3_\\envs\\py37\\lib\\site-packages\\splinter\\driver\\webdriver\\chrome.py\", line 43, in __init__\n",
      "    self.driver = Chrome(options=options, **kwargs)\n",
      "  File \"c:\\Users\\hinas\\anaconda3_\\envs\\py37\\lib\\site-packages\\selenium\\webdriver\\chrome\\webdriver.py\", line 73, in __init__\n",
      "    service_log_path, service, keep_alive)\n",
      "  File \"c:\\Users\\hinas\\anaconda3_\\envs\\py37\\lib\\site-packages\\selenium\\webdriver\\chromium\\webdriver.py\", line 89, in __init__\n",
      "    self.service.start()\n",
      "  File \"c:\\Users\\hinas\\anaconda3_\\envs\\py37\\lib\\site-packages\\selenium\\webdriver\\common\\service.py\", line 83, in start\n",
      "    os.path.basename(self.path), self.start_error_message)\n",
      "selenium.common.exceptions.WebDriverException: Message: 'chromedriver.exe' executable needs to be in PATH. Please see https://chromedriver.chromium.org/home\n",
      "\n",
      "127.0.0.1 - - [15/May/2022 21:13:56] \"GET /scrape HTTP/1.1\" 500 -\n",
      "[2022-05-15 22:10:57,803] ERROR in app: Exception on /scrape [GET]\n",
      "Traceback (most recent call last):\n",
      "  File \"c:\\Users\\hinas\\anaconda3_\\envs\\py37\\lib\\site-packages\\selenium\\webdriver\\common\\service.py\", line 76, in start\n",
      "    creationflags=self.creationflags)\n",
      "  File \"c:\\Users\\hinas\\anaconda3_\\envs\\py37\\lib\\subprocess.py\", line 800, in __init__\n",
      "    restore_signals, start_new_session)\n",
      "  File \"c:\\Users\\hinas\\anaconda3_\\envs\\py37\\lib\\subprocess.py\", line 1207, in _execute_child\n",
      "    startupinfo)\n",
      "FileNotFoundError: [WinError 2] The system cannot find the file specified\n",
      "\n",
      "During handling of the above exception, another exception occurred:\n",
      "\n",
      "Traceback (most recent call last):\n",
      "  File \"c:\\Users\\hinas\\anaconda3_\\envs\\py37\\lib\\site-packages\\flask\\app.py\", line 2077, in wsgi_app\n",
      "    response = self.full_dispatch_request()\n",
      "  File \"c:\\Users\\hinas\\anaconda3_\\envs\\py37\\lib\\site-packages\\flask\\app.py\", line 1525, in full_dispatch_request\n",
      "    rv = self.handle_user_exception(e)\n",
      "  File \"c:\\Users\\hinas\\anaconda3_\\envs\\py37\\lib\\site-packages\\flask\\app.py\", line 1523, in full_dispatch_request\n",
      "    rv = self.dispatch_request()\n",
      "  File \"c:\\Users\\hinas\\anaconda3_\\envs\\py37\\lib\\site-packages\\flask\\app.py\", line 1509, in dispatch_request\n",
      "    return self.ensure_sync(self.view_functions[rule.endpoint])(**req.view_args)\n",
      "  File \"C:\\Users\\hinas\\AppData\\Local\\Temp\\ipykernel_25832\\18937253.py\", line 4, in scrape\n",
      "    mars_data = scraping.scrape_all()\n",
      "  File \"c:\\Users\\hinas\\OneDrive\\Desktop\\Bootcamp\\Module_10_Mars_Mission\\Mars_Mission\\scraping.py\", line 11, in scrape_all\n",
      "    browser = Browser('chrome', **executable_path, headless=True)\n",
      "  File \"c:\\Users\\hinas\\anaconda3_\\envs\\py37\\lib\\site-packages\\splinter\\browser.py\", line 99, in Browser\n",
      "    return get_driver(driver, retry_count=retry_count, *args, **kwargs)\n",
      "  File \"c:\\Users\\hinas\\anaconda3_\\envs\\py37\\lib\\site-packages\\splinter\\browser.py\", line 74, in get_driver\n",
      "    raise err\n",
      "  File \"c:\\Users\\hinas\\anaconda3_\\envs\\py37\\lib\\site-packages\\splinter\\browser.py\", line 70, in get_driver\n",
      "    return driver(*args, **kwargs)\n",
      "  File \"c:\\Users\\hinas\\anaconda3_\\envs\\py37\\lib\\site-packages\\splinter\\driver\\webdriver\\chrome.py\", line 43, in __init__\n",
      "    self.driver = Chrome(options=options, **kwargs)\n",
      "  File \"c:\\Users\\hinas\\anaconda3_\\envs\\py37\\lib\\site-packages\\selenium\\webdriver\\chrome\\webdriver.py\", line 73, in __init__\n",
      "    service_log_path, service, keep_alive)\n",
      "  File \"c:\\Users\\hinas\\anaconda3_\\envs\\py37\\lib\\site-packages\\selenium\\webdriver\\chromium\\webdriver.py\", line 89, in __init__\n",
      "    self.service.start()\n",
      "  File \"c:\\Users\\hinas\\anaconda3_\\envs\\py37\\lib\\site-packages\\selenium\\webdriver\\common\\service.py\", line 83, in start\n",
      "    os.path.basename(self.path), self.start_error_message)\n",
      "selenium.common.exceptions.WebDriverException: Message: 'chromedriver.exe' executable needs to be in PATH. Please see https://chromedriver.chromium.org/home\n",
      "\n",
      "127.0.0.1 - - [15/May/2022 22:10:57] \"GET /scrape HTTP/1.1\" 500 -\n"
     ]
    }
   ],
   "source": [
    "if __name__ == \"__main__\":\n",
    "   app.run()"
   ]
  },
  {
   "cell_type": "code",
   "execution_count": null,
   "metadata": {},
   "outputs": [],
   "source": []
  }
 ],
 "metadata": {
  "interpreter": {
   "hash": "6a63a91175cf7596a67df6e886a02e346cddf7fcffd508972192376c714d7c94"
  },
  "kernelspec": {
   "display_name": "Python 3.7.13 ('py37')",
   "language": "python",
   "name": "python3"
  },
  "language_info": {
   "codemirror_mode": {
    "name": "ipython",
    "version": 3
   },
   "file_extension": ".py",
   "mimetype": "text/x-python",
   "name": "python",
   "nbconvert_exporter": "python",
   "pygments_lexer": "ipython3",
   "version": "3.7.13"
  },
  "orig_nbformat": 4
 },
 "nbformat": 4,
 "nbformat_minor": 2
}
